{
 "cells": [
  {
   "cell_type": "markdown",
   "id": "0459f086-f776-415d-8f01-9b1328b05d87",
   "metadata": {},
   "source": [
    "#### Importing essential libraries"
   ]
  },
  {
   "cell_type": "code",
   "execution_count": 1,
   "id": "29ff59c1-a2ed-4b4a-bbe0-7a125e6e1f73",
   "metadata": {},
   "outputs": [],
   "source": [
    "import dgl\n",
    "import torch\n",
    "import torch.nn as nn\n",
    "import torch.nn.functional as F\n",
    "import itertools\n",
    "import numpy as np\n",
    "import urllib.request\n",
    "import pandas as pd\n",
    "import scipy.sparse as sp\n",
    "import os\n",
    "from tqdm.notebook import tqdm\n",
    "from torchmetrics.functional import f1_score\n",
    "from matplotlib import pyplot as plt\n",
    "import seaborn as sns"
   ]
  },
  {
   "cell_type": "markdown",
   "id": "a98d1d58-16d8-4264-899f-8fb7962b2113",
   "metadata": {},
   "source": [
    "#### Reading the dataset\n",
    "\n",
    "The dataset I have worked on here is ‘Computer’ part of the AmazonCoBuy dataset, where nodes (total 13,752) represent goods, edges (total 4,91,722) indicate that two goods are frequently bought together, node features (totl 767) are bag-of-words encoded product reviews, and class labels (total 10) are given by the product category.\n",
    "\n",
    "You can find more such datasets here: https://docs.dgl.ai/en/0.8.x/api/python/dgl.data.html\n",
    "\n"
   ]
  },
  {
   "cell_type": "code",
   "execution_count": 2,
   "id": "7ccc1d5b-e97b-4378-92e7-4e0d4bd1ea90",
   "metadata": {},
   "outputs": [],
   "source": [
    "dataset = dgl.data.AmazonCoBuyComputerDataset()\n",
    "g = dataset[0]\n",
    "num_classes = dataset.num_classes\n",
    "feat = g.ndata['feat']\n",
    "label = g.ndata['label']"
   ]
  },
  {
   "cell_type": "code",
   "execution_count": 3,
   "id": "25b05a05-cf49-4ca6-9b61-f1631f7dad11",
   "metadata": {},
   "outputs": [
    {
     "data": {
      "text/plain": [
       "Graph(num_nodes=13752, num_edges=491722,\n",
       "      ndata_schemes={'label': Scheme(shape=(), dtype=torch.int64), 'feat': Scheme(shape=(767,), dtype=torch.float32)}\n",
       "      edata_schemes={'__orig__': Scheme(shape=(), dtype=torch.int64)})"
      ]
     },
     "execution_count": 3,
     "metadata": {},
     "output_type": "execute_result"
    }
   ],
   "source": [
    "g"
   ]
  },
  {
   "cell_type": "markdown",
   "id": "f7756d0d-99cd-46e4-af68-008cfac26edc",
   "metadata": {},
   "source": [
    "\n",
    "\n",
    "\n",
    "Adding self-loops regardless of whether they already exist or not, where 'features' of the new edges (self-loop edges) will be filled with zeros."
   ]
  },
  {
   "cell_type": "code",
   "execution_count": 4,
   "id": "52b8f876-3dc8-484d-852d-84376bc9f3d3",
   "metadata": {},
   "outputs": [],
   "source": [
    "g = dgl.add_self_loop(g)"
   ]
  },
  {
   "cell_type": "markdown",
   "id": "f75c2986-1f29-4853-be3f-ece01c9c6d3c",
   "metadata": {},
   "source": [
    "train_mask: A boolean tensor indicating whether the node is in the training set.\n",
    "\n",
    "val_mask: A boolean tensor indicating whether the node is in the validation set.\n",
    "\n",
    "test_mask: A boolean tensor indicating whether the node is in the test set."
   ]
  },
  {
   "cell_type": "code",
   "execution_count": 5,
   "id": "0a38ec0a-8954-4293-9947-b928d5cf507d",
   "metadata": {},
   "outputs": [],
   "source": [
    "#Creating train-val-test mask of 80-10-10\n",
    "\n",
    "g.ndata['train_mask']=torch.as_tensor([True]*11000+[False]*1376+[False]*1376)\n",
    "g.ndata['val_mask']=torch.as_tensor([False]*11000+[True]*1376+[False]*1376)\n",
    "g.ndata['test_mask']=torch.as_tensor([False]*11000+[False]*1376+[True]*1376)"
   ]
  },
  {
   "cell_type": "markdown",
   "id": "b7cc36bc-bc17-4ed9-890c-85cbd7d79e9b",
   "metadata": {},
   "source": [
    "#### Defining Model\n",
    "\n",
    "I have implemented a Graph Convolutional Network (GCN) with 2 layers here. \n",
    "\n",
    "You can read more about it here: http://tkipf.github.io/graph-convolutional-networks/"
   ]
  },
  {
   "cell_type": "code",
   "execution_count": 6,
   "id": "99464d91-2c73-4435-8e61-0b8b4a8b380e",
   "metadata": {},
   "outputs": [
    {
     "data": {
      "text/plain": [
       "GCN(\n",
       "  (conv1): GraphConv(in=767, out=16, normalization=both, activation=None)\n",
       "  (conv2): GraphConv(in=16, out=10, normalization=both, activation=None)\n",
       ")"
      ]
     },
     "execution_count": 6,
     "metadata": {},
     "output_type": "execute_result"
    }
   ],
   "source": [
    "from dgl.nn import GraphConv\n",
    "\n",
    "class GCN(nn.Module):\n",
    "    def __init__(self, in_feats, h_feats, num_classes):\n",
    "        super(GCN, self).__init__()\n",
    "        self.conv1 = GraphConv(in_feats, h_feats)\n",
    "        self.conv2 = GraphConv(h_feats, num_classes)\n",
    "\n",
    "    def forward(self, g, in_feat):\n",
    "        h = self.conv1(g, in_feat)\n",
    "        h = F.relu(h)\n",
    "        h = self.conv2(g, h)\n",
    "        return h\n",
    "\n",
    "# Creating the model with given dimensions\n",
    "model = GCN(g.ndata['feat'].shape[1], 16, dataset.num_classes)\n",
    "model"
   ]
  },
  {
   "cell_type": "markdown",
   "id": "ad482859-00ca-4a4d-ac66-79ac90ba34c1",
   "metadata": {},
   "source": [
    "#### Training the Model"
   ]
  },
  {
   "cell_type": "code",
   "execution_count": 7,
   "id": "f1c0f4d8-26e8-4298-bf8d-35977760de59",
   "metadata": {},
   "outputs": [
    {
     "data": {
      "application/vnd.jupyter.widget-view+json": {
       "model_id": "42ce17b4f48e47778fc91f4fc3328f4c",
       "version_major": 2,
       "version_minor": 0
      },
      "text/plain": [
       "  0%|          | 0/2001 [00:00<?, ?it/s]"
      ]
     },
     "metadata": {},
     "output_type": "display_data"
    },
    {
     "name": "stderr",
     "output_type": "stream",
     "text": [
      "/Users/sganguly/opt/anaconda3/lib/python3.9/site-packages/torch/amp/autocast_mode.py:198: UserWarning: User provided device_type of 'cuda', but CUDA is not available. Disabling\n",
      "  warnings.warn('User provided device_type of \\'cuda\\', but CUDA is not available. Disabling')\n"
     ]
    },
    {
     "name": "stdout",
     "output_type": "stream",
     "text": [
      "In epoch 0, loss: 2.360, val acc: 0.088 (best 0.088), test acc: 0.025 (best 0.025)\n",
      "In epoch 200, loss: 0.330, val acc: 0.803 (best 0.803), test acc: 0.695 (best 0.695)\n",
      "In epoch 400, loss: 0.240, val acc: 0.849 (best 0.849), test acc: 0.722 (best 0.722)\n",
      "In epoch 600, loss: 0.207, val acc: 0.863 (best 0.869), test acc: 0.727 (best 0.730)\n",
      "In epoch 800, loss: 0.188, val acc: 0.864 (best 0.873), test acc: 0.725 (best 0.732)\n",
      "In epoch 1000, loss: 0.197, val acc: 0.863 (best 0.873), test acc: 0.729 (best 0.732)\n",
      "In epoch 1200, loss: 0.185, val acc: 0.866 (best 0.873), test acc: 0.726 (best 0.732)\n",
      "In epoch 1400, loss: 0.180, val acc: 0.868 (best 0.873), test acc: 0.730 (best 0.732)\n",
      "In epoch 1600, loss: 0.175, val acc: 0.871 (best 0.873), test acc: 0.731 (best 0.733)\n",
      "In epoch 1800, loss: 0.171, val acc: 0.871 (best 0.873), test acc: 0.730 (best 0.733)\n",
      "In epoch 2000, loss: 0.166, val acc: 0.868 (best 0.873), test acc: 0.728 (best 0.733)\n"
     ]
    }
   ],
   "source": [
    "\n",
    "lossl=[]\n",
    "ep=[]\n",
    "train_accl=[]\n",
    "val_accl=[]\n",
    "test_accl=[]\n",
    "    \n",
    "def train(g, model):\n",
    "    optimizer = torch.optim.Adam(model.parameters(), lr=0.01)\n",
    "    best_train_acc = 0\n",
    "    best_val_acc = 0\n",
    "    best_test_acc = 0\n",
    "    \n",
    "    \n",
    "\n",
    "    features = g.ndata['feat']\n",
    "    labels = g.ndata['label']\n",
    "    train_mask = g.ndata['train_mask']\n",
    "    val_mask = g.ndata['val_mask']\n",
    "    test_mask = g.ndata['test_mask']\n",
    "    for e in tqdm(range(2001)):\n",
    "        # Forward function\n",
    "        logits = model(g, features)\n",
    "\n",
    "        # Computing prediction \n",
    "        pred = logits.argmax(1)\n",
    "\n",
    "        # Computing the loss of only compute the losses of the nodes in the training set\n",
    "        loss = F.cross_entropy(logits[train_mask], labels[train_mask])\n",
    "\n",
    "        # Computing the training/validation/test accuracy \n",
    "        train_acc = (pred[train_mask] == labels[train_mask]).float().mean()\n",
    "        val_acc = (pred[val_mask] == labels[val_mask]).float().mean()\n",
    "        test_acc = (pred[test_mask] == labels[test_mask]).float().mean()\n",
    "        \n",
    "\n",
    "        # Saving the best train, validation, and test accuracy\n",
    "        if best_train_acc < train_acc:\n",
    "            best_train_acc = train_acc\n",
    "        if best_val_acc < val_acc:\n",
    "            best_val_acc = val_acc\n",
    "        if best_test_acc < test_acc:\n",
    "            best_test_acc = test_acc\n",
    "\n",
    "        # Performing backward propagation\n",
    "        \n",
    "        optimizer.zero_grad()\n",
    "        loss.backward()\n",
    "        optimizer.step()\n",
    "\n",
    "        if e % 200 == 0:\n",
    "            print('In epoch {}, loss: {:.3f}, val acc: {:.3f} (best {:.3f}), test acc: {:.3f} (best {:.3f})'.format(\n",
    "                e, loss, val_acc, best_val_acc, test_acc, best_test_acc))\n",
    "            \n",
    "            #storing loss value, and train-val-test accuracy\n",
    "            lossl.append(loss.detach().numpy())\n",
    "            ep.append(e)\n",
    "            train_accl.append(train_acc.detach().numpy())\n",
    "            val_accl.append(val_acc.detach().numpy())\n",
    "            test_accl.append(test_acc.detach().numpy())\n",
    "        \n",
    "        \n",
    "        \n",
    "        \n",
    "\n",
    "#Training the model\n",
    "train(g, model)"
   ]
  },
  {
   "cell_type": "markdown",
   "id": "39deec5d-d087-4fa3-a97e-593da02c9b6e",
   "metadata": {},
   "source": [
    "#### Plotting the performance of the GCN model"
   ]
  },
  {
   "cell_type": "code",
   "execution_count": 8,
   "id": "fa9ccee0-9d5d-4f15-aeca-5b7d43f18228",
   "metadata": {},
   "outputs": [
    {
     "data": {
      "image/png": "[encoded data removed]",
      "text/plain": [
       "<Figure size 360x216 with 1 Axes>"
      ]
     },
     "metadata": {
      "needs_background": "light"
     },
     "output_type": "display_data"
    }
   ],
   "source": [
    "plt.figure(figsize=(5,3))\n",
    "sns.set_theme(style=\"darkgrid\")\n",
    "plt.plot(ep, lossl)\n",
    "plt.xlabel(\"Epoch\")\n",
    "plt.ylabel(\"Loss\")\n",
    "plt.title(\"Epoch vs Loss\")\n",
    "plt.show()"
   ]
  },
  {
   "cell_type": "code",
   "execution_count": 9,
   "id": "73f19905-3d5a-4cfd-81e2-056eb164de1f",
   "metadata": {},
   "outputs": [
    {
     "data": {
      "image/png": "[encoded data removed]",
      "text/plain": [
       "<Figure size 360x216 with 1 Axes>"
      ]
     },
     "metadata": {},
     "output_type": "display_data"
    }
   ],
   "source": [
    "plt.figure(figsize=(5,3))\n",
    "sns.set_theme(style=\"darkgrid\")\n",
    "plt.plot(ep, train_accl)\n",
    "plt.xlabel(\"Epoch\")\n",
    "plt.ylabel(\"Validation Accuracy\")\n",
    "plt.title(\"Epoch vs Validation Accuracy\")\n",
    "plt.show()"
   ]
  },
  {
   "cell_type": "code",
   "execution_count": 10,
   "id": "f2feee28-d83a-49b3-83ae-81bff4db353e",
   "metadata": {},
   "outputs": [
    {
     "data": {
      "image/png": "[encoded data removed]",
      "text/plain": [
       "<Figure size 360x216 with 1 Axes>"
      ]
     },
     "metadata": {},
     "output_type": "display_data"
    }
   ],
   "source": [
    "plt.figure(figsize=(5,3))\n",
    "sns.set_theme(style=\"darkgrid\")\n",
    "plt.plot(ep, test_accl)\n",
    "plt.xlabel(\"Epoch\")\n",
    "plt.ylabel(\"Test Accuracy\")\n",
    "plt.title(\"Epoch vs Test Accuracy\")\n",
    "plt.show()"
   ]
  },
  {
   "cell_type": "code",
   "execution_count": null,
   "id": "bc05afd9-8c68-48c7-8b53-c8a4f157451e",
   "metadata": {},
   "outputs": [],
   "source": []
  }
 ],
 "metadata": {
  "kernelspec": {
   "display_name": "Python 3 (ipykernel)",
   "language": "python",
   "name": "python3"
  },
  "language_info": {
   "codemirror_mode": {
    "name": "ipython",
    "version": 3
   },
   "file_extension": ".py",
   "mimetype": "text/x-python",
   "name": "python",
   "nbconvert_exporter": "python",
   "pygments_lexer": "ipython3",
   "version": "3.9.7"
  }
 },
 "nbformat": 4,
 "nbformat_minor": 5
}
